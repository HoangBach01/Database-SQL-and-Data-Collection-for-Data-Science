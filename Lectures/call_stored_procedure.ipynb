{
 "cells": [
  {
   "cell_type": "markdown",
   "metadata": {},
   "source": [
    "```\n",
    "DELIMITER $$ \n",
    "CREATE PROCEDURE find_customer_by_phone(IN p_phone VARCHAR(14),   \n",
    "             OUT p_firstname VARCHAR(255), OUT p_lastname VARCHAR(255))\n",
    "BEGIN\n",
    "       SELECT firstname, lastname INTO p_firstname, p_lastname \n",
    "       FROM customers\n",
    "       WHERE phone = p_phone;\n",
    "END $$\n",
    "DELIMITER ;\n",
    "```"
   ]
  },
  {
   "cell_type": "code",
   "execution_count": 4,
   "metadata": {},
   "outputs": [],
   "source": [
    "from mysql.connector import connect"
   ]
  },
  {
   "cell_type": "code",
   "execution_count": 5,
   "metadata": {},
   "outputs": [],
   "source": [
    "conn = connect(host='localhost', database='salesdb', user='root', password='root', port=8889)"
   ]
  },
  {
   "cell_type": "code",
   "execution_count": 10,
   "metadata": {},
   "outputs": [],
   "source": [
    "cur = conn.cursor()\n",
    "args = ['030-0074321', None, None]\n",
    "result_args = cur.callproc('find_customer_by_phone', args)"
   ]
  },
  {
   "cell_type": "code",
   "execution_count": 11,
   "metadata": {},
   "outputs": [
    {
     "output_type": "execute_result",
     "data": {
      "text/plain": [
       "('030-0074321', 'Maria', 'Anders')"
      ]
     },
     "metadata": {},
     "execution_count": 11
    }
   ],
   "source": [
    "result_args"
   ]
  },
  {
   "cell_type": "code",
   "execution_count": 12,
   "metadata": {},
   "outputs": [
    {
     "output_type": "execute_result",
     "data": {
      "text/plain": [
       "['030-0074321', None, None]"
      ]
     },
     "metadata": {},
     "execution_count": 12
    }
   ],
   "source": [
    "args"
   ]
  },
  {
   "cell_type": "code",
   "execution_count": 13,
   "metadata": {},
   "outputs": [],
   "source": [
    "cur.close()\n",
    "conn.close()"
   ]
  },
  {
   "cell_type": "markdown",
   "metadata": {},
   "source": [
    "```\n",
    "DELIMITER $$ \n",
    "CREATE PROCEDURE find_customers_by_city(IN p_city VARCHAR(40))\n",
    "BEGIN\n",
    "       SELECT firstname, lastname, phone, city\n",
    "       FROM customers\n",
    "       WHERE City = p_city;\n",
    "END $$\n",
    "DELIMITER ;\n",
    "```"
   ]
  },
  {
   "cell_type": "code",
   "execution_count": 14,
   "metadata": {},
   "outputs": [],
   "source": [
    "# CALL find_customers_by_city('London');"
   ]
  },
  {
   "cell_type": "code",
   "execution_count": 15,
   "metadata": {},
   "outputs": [],
   "source": [
    "conn = connect(host='localhost', database='salesdb', user='root', password='root', port=8889)"
   ]
  },
  {
   "cell_type": "code",
   "execution_count": 16,
   "metadata": {},
   "outputs": [],
   "source": [
    "cur = conn.cursor()\n",
    "cur.callproc('find_customers_by_city', ['London'])\n",
    "results = cur.stored_results()"
   ]
  },
  {
   "cell_type": "code",
   "execution_count": 17,
   "metadata": {},
   "outputs": [
    {
     "output_type": "stream",
     "name": "stdout",
     "text": [
      "[('Thomas', 'Hardy', '(171) 555-7788', 'London'), ('Victoria', 'Ashworth', '(171) 555-1212', 'London'), ('Elizabeth', 'Brown', '(171) 555-2282', 'London'), ('Ann', 'Devon', '(171) 555-0297', 'London'), ('Simon', 'Crowther', '(171) 555-7733', 'London'), ('Hari', 'Kumar', '(171) 555-1717', 'London')]\n"
     ]
    }
   ],
   "source": [
    "for result in results:\n",
    "    print(result.fetchall())"
   ]
  },
  {
   "cell_type": "code",
   "execution_count": 18,
   "metadata": {},
   "outputs": [],
   "source": [
    "cur.close()\n",
    "conn.close()"
   ]
  },
  {
   "cell_type": "code",
   "execution_count": 20,
   "metadata": {},
   "outputs": [],
   "source": [
    "conn = connect(host='localhost', database='salesdb', user='root', password='root', port=8889)"
   ]
  },
  {
   "cell_type": "code",
   "execution_count": 21,
   "metadata": {},
   "outputs": [
    {
     "output_type": "stream",
     "name": "stdout",
     "text": [
      "('Thomas', 'Hardy', '(171) 555-7788', 'London')\n('Victoria', 'Ashworth', '(171) 555-1212', 'London')\n('Elizabeth', 'Brown', '(171) 555-2282', 'London')\n('Ann', 'Devon', '(171) 555-0297', 'London')\n('Simon', 'Crowther', '(171) 555-7733', 'London')\n('Hari', 'Kumar', '(171) 555-1717', 'London')\n"
     ]
    }
   ],
   "source": [
    "cur = conn.cursor()\n",
    "cur.callproc('find_customers_by_city', ['London'])\n",
    "results = cur.stored_results()\n",
    "for result in results:\n",
    "    rows = result.fetchall()\n",
    "    for row in rows:\n",
    "        print(row)"
   ]
  },
  {
   "cell_type": "code",
   "execution_count": 15,
   "metadata": {},
   "outputs": [],
   "source": [
    "cur.close()\n",
    "conn.close()"
   ]
  },
  {
   "cell_type": "markdown",
   "metadata": {},
   "source": [
    "```\n",
    "DELIMITER $$ \n",
    "CREATE PROCEDURE find_orders_by_orderdate(IN p_orderdate DATE)\n",
    "BEGIN\n",
    "       SELECT *\n",
    "       FROM orders\n",
    "       WHERE OrderDate = p_orderdate;\n",
    "END $$\n",
    "DELIMITER ;\n",
    "```"
   ]
  },
  {
   "cell_type": "code",
   "execution_count": 81,
   "metadata": {},
   "outputs": [],
   "source": [
    "# CALL find_orders_by_orderdate('2012-07-10')"
   ]
  },
  {
   "cell_type": "code",
   "execution_count": 16,
   "metadata": {},
   "outputs": [
    {
     "name": "stdout",
     "output_type": "stream",
     "text": [
      "(6, datetime.datetime(2012, 7, 10, 0, 0), '542383', 34, Decimal('1444.80'))\n"
     ]
    }
   ],
   "source": [
    "conn = connect(host='localhost', database='salesdb', user='root', password='', port=3308)\n",
    "cur = conn.cursor()\n",
    "cur.callproc('find_orders_by_orderdate', ['2012-07-10'])\n",
    "results = cur.stored_results()\n",
    "for result in results:\n",
    "    rows = result.fetchall()\n",
    "    for row in rows:\n",
    "        print(row)\n",
    "cur.close()\n",
    "conn.close()        "
   ]
  },
  {
   "cell_type": "code",
   "execution_count": 83,
   "metadata": {},
   "outputs": [
    {
     "name": "stdout",
     "output_type": "stream",
     "text": [
      "id: 6\n",
      "order number: 542383\n",
      "order date: 2012-07-10 00:00:00\n",
      "total amount: 1444.80\n"
     ]
    }
   ],
   "source": [
    "conn = connect(host='localhost', database='salesdb', user='root', password='', port=3308)\n",
    "cur = conn.cursor()\n",
    "cur.callproc('find_orders_by_orderdate', ['2012-07-10'])\n",
    "results = cur.stored_results()\n",
    "for result in results:\n",
    "    rows = result.fetchall()\n",
    "    for row in rows:\n",
    "        print('id:',row[0])\n",
    "        print('order number:',row[2])\n",
    "        print('order date:',row[1])\n",
    "        print('total amount:',row[4])\n",
    "cur.close()\n",
    "conn.close()   "
   ]
  },
  {
   "cell_type": "markdown",
   "metadata": {},
   "source": [
    "```\n",
    "DELIMITER $$ \n",
    "CREATE PROCEDURE find_orders_by_orderdate_range(IN p_orderdate_begin DATE, IN p_orderdate_end DATE)\n",
    "BEGIN\n",
    "       SELECT *\n",
    "       FROM orders\n",
    "       WHERE OrderDate BETWEEN p_orderdate_begin AND p_orderdate_end\n",
    "       ORDER BY OrderDate;\n",
    "END $$\n",
    "DELIMITER ;\n",
    "```"
   ]
  },
  {
   "cell_type": "code",
   "execution_count": 84,
   "metadata": {},
   "outputs": [],
   "source": [
    "# CALL find_orders_by_orderdate_range('2012-07-01 00:00:00', '2012-07-31 23:59:59');"
   ]
  },
  {
   "cell_type": "code",
   "execution_count": 17,
   "metadata": {},
   "outputs": [
    {
     "name": "stdout",
     "output_type": "stream",
     "text": [
      "(1, datetime.datetime(2012, 7, 4, 0, 0), '542378', 85, Decimal('440.00'))\n",
      "(2, datetime.datetime(2012, 7, 5, 0, 0), '542379', 79, Decimal('1863.40'))\n",
      "(3, datetime.datetime(2012, 7, 8, 0, 0), '542380', 34, Decimal('1813.00'))\n",
      "(4, datetime.datetime(2012, 7, 8, 0, 0), '542381', 84, Decimal('670.80'))\n",
      "(5, datetime.datetime(2012, 7, 9, 0, 0), '542382', 76, Decimal('3730.00'))\n",
      "(6, datetime.datetime(2012, 7, 10, 0, 0), '542383', 34, Decimal('1444.80'))\n",
      "(7, datetime.datetime(2012, 7, 11, 0, 0), '542384', 14, Decimal('625.20'))\n",
      "(8, datetime.datetime(2012, 7, 12, 0, 0), '542385', 68, Decimal('2490.50'))\n",
      "(9, datetime.datetime(2012, 7, 15, 0, 0), '542386', 88, Decimal('517.80'))\n",
      "(10, datetime.datetime(2012, 7, 16, 0, 0), '542387', 35, Decimal('1119.90'))\n",
      "(11, datetime.datetime(2012, 7, 17, 0, 0), '542388', 20, Decimal('2018.60'))\n",
      "(12, datetime.datetime(2012, 7, 18, 0, 0), '542389', 13, Decimal('100.80'))\n",
      "(13, datetime.datetime(2012, 7, 19, 0, 0), '542390', 56, Decimal('1746.20'))\n",
      "(14, datetime.datetime(2012, 7, 19, 0, 0), '542391', 61, Decimal('448.00'))\n",
      "(15, datetime.datetime(2012, 7, 22, 0, 0), '542392', 65, Decimal('624.80'))\n",
      "(16, datetime.datetime(2012, 7, 23, 0, 0), '542393', 20, Decimal('2464.80'))\n",
      "(17, datetime.datetime(2012, 7, 24, 0, 0), '542394', 24, Decimal('724.50'))\n",
      "(18, datetime.datetime(2012, 7, 25, 0, 0), '542395', 7, Decimal('1176.00'))\n",
      "(19, datetime.datetime(2012, 7, 26, 0, 0), '542396', 87, Decimal('364.80'))\n",
      "(20, datetime.datetime(2012, 7, 29, 0, 0), '542397', 25, Decimal('4031.00'))\n",
      "(21, datetime.datetime(2012, 7, 30, 0, 0), '542398', 33, Decimal('1101.20'))\n",
      "(22, datetime.datetime(2012, 7, 31, 0, 0), '542399', 89, Decimal('676.00'))\n"
     ]
    }
   ],
   "source": [
    "conn = connect(host='localhost', database='salesdb', user='root', password='', port=3308)\n",
    "cur = conn.cursor()\n",
    "cur.callproc('find_orders_by_orderdate_range', ['2012-07-01 00:00:00', '2012-07-31 23:59:59'])\n",
    "results = cur.stored_results()\n",
    "for result in results:\n",
    "    rows = result.fetchall()\n",
    "    for row in rows:\n",
    "        print(row)\n",
    "cur.close()\n",
    "conn.close()        "
   ]
  },
  {
   "cell_type": "code",
   "execution_count": null,
   "metadata": {},
   "outputs": [],
   "source": []
  }
 ],
 "metadata": {
  "kernelspec": {
   "display_name": "Python 3.7.7 64-bit ('ai_learn': conda)",
   "language": "python",
   "name": "python37764bitailearncondac55bf7adc40a450a9629c3e2b471f312"
  },
  "language_info": {
   "codemirror_mode": {
    "name": "ipython",
    "version": 3
   },
   "file_extension": ".py",
   "mimetype": "text/x-python",
   "name": "python",
   "nbconvert_exporter": "python",
   "pygments_lexer": "ipython3",
   "version": "3.7.7-final"
  }
 },
 "nbformat": 4,
 "nbformat_minor": 2
}