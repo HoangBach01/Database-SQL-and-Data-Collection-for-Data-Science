{
 "cells": [
  {
   "cell_type": "code",
   "execution_count": 25,
   "metadata": {},
   "outputs": [],
   "source": [
    "from mysql.connector import connect"
   ]
  },
  {
   "cell_type": "code",
   "execution_count": 26,
   "metadata": {},
   "outputs": [],
   "source": [
    "# conn = connect(host='localhost', user='root', password='', database='hr', port='3308')\n",
    "conn = connect(host='172.24.40.247', user='hv', password='123456', database='olympics', port='3306')"
   ]
  },
  {
   "cell_type": "code",
   "execution_count": 27,
   "metadata": {},
   "outputs": [],
   "source": [
    "cur = conn.cursor()"
   ]
  },
  {
   "cell_type": "code",
   "execution_count": 28,
   "metadata": {},
   "outputs": [],
   "source": [
    "# parameters (tham so)\n",
    "sql = '''\n",
    "select * \n",
    "from medals\n",
    "where year=%(y)s and medal=%(m)s\n",
    "limit %(l)s\n",
    "'''"
   ]
  },
  {
   "cell_type": "code",
   "execution_count": 29,
   "metadata": {},
   "outputs": [],
   "source": [
    "data_list = [{'y':2012, 'm':'Gold', 'l':5},\n",
    "            {'y':2012, 'm':'Silver', 'l':5}] # arguments (doi so)"
   ]
  },
  {
   "cell_type": "code",
   "execution_count": 30,
   "metadata": {},
   "outputs": [
    {
     "name": "stdout",
     "output_type": "stream",
     "text": [
      "(29217, 2012, 'London', 'Aquatics', 'Diving', 'BOUDIA, David', 'USA', 'Men', '10M Platform', 'Gold')\n",
      "(29220, 2012, 'London', 'Aquatics', 'Diving', 'CHEN, Ruolin', 'CHN', 'Women', '10M Platform', 'Gold')\n",
      "(29223, 2012, 'London', 'Aquatics', 'Diving', 'ZAKHAROV, Ilya', 'RUS', 'Men', '3M Springboard', 'Gold')\n",
      "(29226, 2012, 'London', 'Aquatics', 'Diving', 'WU, Minxia', 'CHN', 'Women', '3M Springboard', 'Gold')\n",
      "(29229, 2012, 'London', 'Aquatics', 'Diving', 'CAO, Yuan', 'CHN', 'Men', 'Synchronized 10M', 'Gold')\n",
      "(29218, 2012, 'London', 'Aquatics', 'Diving', 'QIU, Bo', 'CHN', 'Men', '10M Platform', 'Silver')\n",
      "(29221, 2012, 'London', 'Aquatics', 'Diving', 'BROBEN, Brittany', 'AUS', 'Women', '10M Platform', 'Silver')\n",
      "(29224, 2012, 'London', 'Aquatics', 'Diving', 'QIN, Kai', 'CHN', 'Men', '3M Springboard', 'Silver')\n",
      "(29227, 2012, 'London', 'Aquatics', 'Diving', 'HE, Zi', 'CHN', 'Women', '3M Springboard', 'Silver')\n",
      "(29231, 2012, 'London', 'Aquatics', 'Diving', 'GARCIA NAVARRO, Ivan', 'MEX', 'Men', 'Synchronized 10M', 'Silver')\n"
     ]
    }
   ],
   "source": [
    "for data in data_list:\n",
    "    cur.execute(sql, data)\n",
    "    for row in cur:\n",
    "        print(row)"
   ]
  },
  {
   "cell_type": "code",
   "execution_count": 31,
   "metadata": {},
   "outputs": [
    {
     "data": {
      "text/plain": [
       "True"
      ]
     },
     "execution_count": 31,
     "metadata": {},
     "output_type": "execute_result"
    }
   ],
   "source": [
    "cur.close()"
   ]
  },
  {
   "cell_type": "code",
   "execution_count": 32,
   "metadata": {},
   "outputs": [],
   "source": [
    "conn.close()"
   ]
  }
 ],
 "metadata": {
  "kernelspec": {
   "display_name": "Python 3",
   "language": "python",
   "name": "python3"
  },
  "language_info": {
   "codemirror_mode": {
    "name": "ipython",
    "version": 3
   },
   "file_extension": ".py",
   "mimetype": "text/x-python",
   "name": "python",
   "nbconvert_exporter": "python",
   "pygments_lexer": "ipython3",
   "version": "3.6.8"
  }
 },
 "nbformat": 4,
 "nbformat_minor": 2
}
