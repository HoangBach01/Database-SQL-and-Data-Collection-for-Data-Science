{
 "cells": [
  {
   "cell_type": "code",
   "execution_count": 8,
   "metadata": {},
   "outputs": [],
   "source": [
    "from mysql.connector import connect"
   ]
  },
  {
   "cell_type": "code",
   "execution_count": 9,
   "metadata": {},
   "outputs": [],
   "source": [
    "# conn = connect(host='localhost', user='root', password='', database='hr', port='3308')\n",
    "conn = connect(host='172.24.40.247', user='hv', password='123456', database='olympics', port='3306')"
   ]
  },
  {
   "cell_type": "code",
   "execution_count": 10,
   "metadata": {},
   "outputs": [],
   "source": [
    "cur = conn.cursor()"
   ]
  },
  {
   "cell_type": "code",
   "execution_count": 11,
   "metadata": {},
   "outputs": [],
   "source": [
    "# parameters (tham so)\n",
    "sql = '''\n",
    "select * \n",
    "from medals\n",
    "where year=%s and medal=%s\n",
    "limit %s\n",
    "'''"
   ]
  },
  {
   "cell_type": "code",
   "execution_count": 12,
   "metadata": {},
   "outputs": [],
   "source": [
    "data = [2012, 'Silver', 5] # arguments (doi so)"
   ]
  },
  {
   "cell_type": "code",
   "execution_count": 13,
   "metadata": {},
   "outputs": [],
   "source": [
    "cur.execute(sql, data)"
   ]
  },
  {
   "cell_type": "code",
   "execution_count": 14,
   "metadata": {},
   "outputs": [
    {
     "name": "stdout",
     "output_type": "stream",
     "text": [
      "(29218, 2012, 'London', 'Aquatics', 'Diving', 'QIU, Bo', 'CHN', 'Men', '10M Platform', 'Silver')\n",
      "(29221, 2012, 'London', 'Aquatics', 'Diving', 'BROBEN, Brittany', 'AUS', 'Women', '10M Platform', 'Silver')\n",
      "(29224, 2012, 'London', 'Aquatics', 'Diving', 'QIN, Kai', 'CHN', 'Men', '3M Springboard', 'Silver')\n",
      "(29227, 2012, 'London', 'Aquatics', 'Diving', 'HE, Zi', 'CHN', 'Women', '3M Springboard', 'Silver')\n",
      "(29231, 2012, 'London', 'Aquatics', 'Diving', 'GARCIA NAVARRO, Ivan', 'MEX', 'Men', 'Synchronized 10M', 'Silver')\n"
     ]
    }
   ],
   "source": [
    "for row in cur:\n",
    "    print(row)"
   ]
  },
  {
   "cell_type": "code",
   "execution_count": 15,
   "metadata": {},
   "outputs": [
    {
     "data": {
      "text/plain": [
       "True"
      ]
     },
     "execution_count": 15,
     "metadata": {},
     "output_type": "execute_result"
    }
   ],
   "source": [
    "cur.close()"
   ]
  },
  {
   "cell_type": "code",
   "execution_count": 16,
   "metadata": {},
   "outputs": [],
   "source": [
    "conn.close()"
   ]
  }
 ],
 "metadata": {
  "kernelspec": {
   "display_name": "Python 3",
   "language": "python",
   "name": "python3"
  },
  "language_info": {
   "codemirror_mode": {
    "name": "ipython",
    "version": 3
   },
   "file_extension": ".py",
   "mimetype": "text/x-python",
   "name": "python",
   "nbconvert_exporter": "python",
   "pygments_lexer": "ipython3",
   "version": "3.6.8"
  }
 },
 "nbformat": 4,
 "nbformat_minor": 2
}
