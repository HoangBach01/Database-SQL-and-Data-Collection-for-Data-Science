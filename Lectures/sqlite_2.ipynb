{
 "cells": [
  {
   "cell_type": "code",
   "execution_count": 18,
   "metadata": {},
   "outputs": [],
   "source": [
    "import sqlite3"
   ]
  },
  {
   "cell_type": "code",
   "execution_count": 19,
   "metadata": {},
   "outputs": [],
   "source": [
    "conn = sqlite3.connect('hr.db')"
   ]
  },
  {
   "cell_type": "code",
   "execution_count": 20,
   "metadata": {},
   "outputs": [],
   "source": [
    "cur = conn.cursor()"
   ]
  },
  {
   "cell_type": "code",
   "execution_count": 21,
   "metadata": {},
   "outputs": [
    {
     "name": "stdout",
     "output_type": "stream",
     "text": [
      "(107, 691416, 6461.8317757009345, 2100, 24000)\n"
     ]
    }
   ],
   "source": [
    "# query: select count(*), sum(salary), avg(salary), min(salary), max(salary) from employees\n",
    "sql = \"select count(*), sum(salary), avg(salary), min(salary), max(salary) from employees\"\n",
    "cur.execute(sql)\n",
    "row = cur.fetchone()\n",
    "print(row)"
   ]
  },
  {
   "cell_type": "code",
   "execution_count": 22,
   "metadata": {},
   "outputs": [
    {
     "name": "stdout",
     "output_type": "stream",
     "text": [
      "(34, 304500, 8955.882352941177, 6100, 14000)\n"
     ]
    }
   ],
   "source": [
    "# phong 80\n",
    "sql = \"\"\"\n",
    "select count(*), sum(salary), avg(salary), min(salary), max(salary) from employees\n",
    "where department_id=80\n",
    "\"\"\"\n",
    "cur.execute(sql)\n",
    "row = cur.fetchone()\n",
    "print(row)"
   ]
  },
  {
   "cell_type": "code",
   "execution_count": 23,
   "metadata": {},
   "outputs": [
    {
     "name": "stdout",
     "output_type": "stream",
     "text": [
      "(34, 304500, 8955.882352941177, 6100, 14000)\n"
     ]
    }
   ],
   "source": [
    "# phong 80\n",
    "depid = (80,)\n",
    "sql = \"\"\"\n",
    "select count(*), sum(salary), avg(salary), min(salary), max(salary) from employees\n",
    "where department_id=?\n",
    "\"\"\"\n",
    "cur.execute(sql, depid)\n",
    "row = cur.fetchone()\n",
    "print(row)"
   ]
  },
  {
   "cell_type": "code",
   "execution_count": 24,
   "metadata": {},
   "outputs": [],
   "source": [
    "cur.close()\n",
    "conn.close()"
   ]
  },
  {
   "cell_type": "code",
   "execution_count": null,
   "metadata": {},
   "outputs": [],
   "source": []
  }
 ],
 "metadata": {
  "kernelspec": {
   "display_name": "Python 3",
   "language": "python",
   "name": "python3"
  },
  "language_info": {
   "codemirror_mode": {
    "name": "ipython",
    "version": 3
   },
   "file_extension": ".py",
   "mimetype": "text/x-python",
   "name": "python",
   "nbconvert_exporter": "python",
   "pygments_lexer": "ipython3",
   "version": "3.6.8"
  }
 },
 "nbformat": 4,
 "nbformat_minor": 2
}
