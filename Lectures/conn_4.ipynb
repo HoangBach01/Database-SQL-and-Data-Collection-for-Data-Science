{
 "cells": [
  {
   "cell_type": "code",
   "execution_count": 19,
   "metadata": {},
   "outputs": [],
   "source": [
    "from mysql.connector import connect"
   ]
  },
  {
   "cell_type": "code",
   "execution_count": 20,
   "metadata": {},
   "outputs": [],
   "source": [
    "# conn = connect(host='localhost', user='root', password='', database='hr', port='3308')\n",
    "conn = connect(host='172.24.40.247', user='hv', password='123456', database='salesdb', port='3306')"
   ]
  },
  {
   "cell_type": "code",
   "execution_count": 21,
   "metadata": {},
   "outputs": [],
   "source": [
    "cur = conn.cursor()\n",
    "sql = '''\n",
    "select * \n",
    "from customers\n",
    "limit 5\n",
    "'''\n",
    "cur.execute(sql)"
   ]
  },
  {
   "cell_type": "code",
   "execution_count": 22,
   "metadata": {},
   "outputs": [
    {
     "name": "stdout",
     "output_type": "stream",
     "text": [
      "(1, 'Maria', 'Anders', 'Berlin', 'Germany', '030-0074321')\n",
      "(2, 'Ana', 'Trujillo', 'México D.F.', 'Mexico', '(5) 555-4729')\n",
      "(3, 'Antonio', 'Moreno', 'México D.F.', 'Mexico', '(5) 555-3932')\n",
      "(4, 'Thomas', 'Hardy', 'London', 'UK', '(171) 555-7788')\n",
      "(5, 'Christina', 'Berglund', 'Luleå', 'Sweden', '0921-12 34 65')\n"
     ]
    }
   ],
   "source": [
    "# doc dong dau tien\n",
    "row = cur.fetchone()\n",
    "while row: # row <> None --> doc co du lieu\n",
    "    print(row)\n",
    "    row = cur.fetchone()"
   ]
  },
  {
   "cell_type": "code",
   "execution_count": 23,
   "metadata": {},
   "outputs": [
    {
     "name": "stdout",
     "output_type": "stream",
     "text": [
      "* * * * * * * * * * * * * * * * * * * * \n",
      "First name: Maria\n",
      "Last name: Anders\n",
      "City: Berlin\n",
      "* * * * * * * * * * * * * * * * * * * * \n",
      "* * * * * * * * * * * * * * * * * * * * \n",
      "First name: Ana\n",
      "Last name: Trujillo\n",
      "City: México D.F.\n",
      "* * * * * * * * * * * * * * * * * * * * \n",
      "* * * * * * * * * * * * * * * * * * * * \n",
      "First name: Antonio\n",
      "Last name: Moreno\n",
      "City: México D.F.\n",
      "* * * * * * * * * * * * * * * * * * * * \n",
      "* * * * * * * * * * * * * * * * * * * * \n",
      "First name: Thomas\n",
      "Last name: Hardy\n",
      "City: London\n",
      "* * * * * * * * * * * * * * * * * * * * \n",
      "* * * * * * * * * * * * * * * * * * * * \n",
      "First name: Christina\n",
      "Last name: Berglund\n",
      "City: Luleå\n",
      "* * * * * * * * * * * * * * * * * * * * \n"
     ]
    }
   ],
   "source": [
    "cur.execute(sql)\n",
    "# doc dong dau tien\n",
    "row = cur.fetchone()\n",
    "while row: # row <> None --> doc co du lieu\n",
    "    print('* '*20)\n",
    "    print('First name:', row[1])\n",
    "    print('Last name:', row[2])\n",
    "    print('City:', row[3])\n",
    "    print('* '*20)\n",
    "    row = cur.fetchone()"
   ]
  },
  {
   "cell_type": "code",
   "execution_count": 24,
   "metadata": {},
   "outputs": [
    {
     "data": {
      "text/plain": [
       "True"
      ]
     },
     "execution_count": 24,
     "metadata": {},
     "output_type": "execute_result"
    }
   ],
   "source": [
    "cur.close()"
   ]
  },
  {
   "cell_type": "code",
   "execution_count": 25,
   "metadata": {},
   "outputs": [],
   "source": [
    "conn.close()"
   ]
  }
 ],
 "metadata": {
  "kernelspec": {
   "display_name": "Python 3",
   "language": "python",
   "name": "python3"
  },
  "language_info": {
   "codemirror_mode": {
    "name": "ipython",
    "version": 3
   },
   "file_extension": ".py",
   "mimetype": "text/x-python",
   "name": "python",
   "nbconvert_exporter": "python",
   "pygments_lexer": "ipython3",
   "version": "3.6.8"
  }
 },
 "nbformat": 4,
 "nbformat_minor": 2
}
