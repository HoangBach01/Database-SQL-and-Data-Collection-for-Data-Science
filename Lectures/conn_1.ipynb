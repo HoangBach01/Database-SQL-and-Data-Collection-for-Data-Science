{
 "cells": [
  {
   "cell_type": "code",
   "execution_count": 8,
   "metadata": {},
   "outputs": [],
   "source": [
    "from mysql.connector import connect\n",
    "import pandas as pd"
   ]
  },
  {
   "cell_type": "code",
   "execution_count": 14,
   "metadata": {},
   "outputs": [
    {
     "output_type": "stream",
     "name": "stdout",
     "text": [
      "Connected to database.\n"
     ]
    }
   ],
   "source": [
    "try: \n",
    "    conn = connect(host='localhost', user='root', password='root', database='TestDB', port='8889')\n",
    "    # conn = connect(host='172.24.40.247', user='hv', password='123456', database='olympics', port='3306')\n",
    "    print('Connected to database!')\n",
    "except:\n",
    "    print('Unable to connect.')"
   ]
  },
  {
   "cell_type": "code",
   "execution_count": 15,
   "metadata": {},
   "outputs": [],
   "source": [
    "cur = conn.cursor()"
   ]
  },
  {
   "cell_type": "code",
   "execution_count": 16,
   "metadata": {},
   "outputs": [],
   "source": [
    "# sql = 'select * from medals where year=2012 and medal=\"gold\" limit 5'\n",
    "sql = '''\n",
    "select * \n",
    "from medals\n",
    "where year=2012 and medal=\"gold\"\n",
    "limit 5\n",
    "'''"
   ]
  },
  {
   "cell_type": "code",
   "execution_count": 17,
   "metadata": {},
   "outputs": [
    {
     "output_type": "execute_result",
     "data": {
      "text/plain": [
       "      Id  Year    City     Sport Discipline         Athlete CountryCode  \\\n",
       "0  29217  2012  London  Aquatics     Diving   BOUDIA, David         USA   \n",
       "1  29220  2012  London  Aquatics     Diving    CHEN, Ruolin         CHN   \n",
       "2  29223  2012  London  Aquatics     Diving  ZAKHAROV, Ilya         RUS   \n",
       "3  29226  2012  London  Aquatics     Diving      WU, Minxia         CHN   \n",
       "4  29229  2012  London  Aquatics     Diving       CAO, Yuan         CHN   \n",
       "\n",
       "  Gender             Event Medal  \n",
       "0    Men      10M Platform  Gold  \n",
       "1  Women      10M Platform  Gold  \n",
       "2    Men    3M Springboard  Gold  \n",
       "3  Women    3M Springboard  Gold  \n",
       "4    Men  Synchronized 10M  Gold  "
      ],
      "text/html": "<div>\n<style scoped>\n    .dataframe tbody tr th:only-of-type {\n        vertical-align: middle;\n    }\n\n    .dataframe tbody tr th {\n        vertical-align: top;\n    }\n\n    .dataframe thead th {\n        text-align: right;\n    }\n</style>\n<table border=\"1\" class=\"dataframe\">\n  <thead>\n    <tr style=\"text-align: right;\">\n      <th></th>\n      <th>Id</th>\n      <th>Year</th>\n      <th>City</th>\n      <th>Sport</th>\n      <th>Discipline</th>\n      <th>Athlete</th>\n      <th>CountryCode</th>\n      <th>Gender</th>\n      <th>Event</th>\n      <th>Medal</th>\n    </tr>\n  </thead>\n  <tbody>\n    <tr>\n      <th>0</th>\n      <td>29217</td>\n      <td>2012</td>\n      <td>London</td>\n      <td>Aquatics</td>\n      <td>Diving</td>\n      <td>BOUDIA, David</td>\n      <td>USA</td>\n      <td>Men</td>\n      <td>10M Platform</td>\n      <td>Gold</td>\n    </tr>\n    <tr>\n      <th>1</th>\n      <td>29220</td>\n      <td>2012</td>\n      <td>London</td>\n      <td>Aquatics</td>\n      <td>Diving</td>\n      <td>CHEN, Ruolin</td>\n      <td>CHN</td>\n      <td>Women</td>\n      <td>10M Platform</td>\n      <td>Gold</td>\n    </tr>\n    <tr>\n      <th>2</th>\n      <td>29223</td>\n      <td>2012</td>\n      <td>London</td>\n      <td>Aquatics</td>\n      <td>Diving</td>\n      <td>ZAKHAROV, Ilya</td>\n      <td>RUS</td>\n      <td>Men</td>\n      <td>3M Springboard</td>\n      <td>Gold</td>\n    </tr>\n    <tr>\n      <th>3</th>\n      <td>29226</td>\n      <td>2012</td>\n      <td>London</td>\n      <td>Aquatics</td>\n      <td>Diving</td>\n      <td>WU, Minxia</td>\n      <td>CHN</td>\n      <td>Women</td>\n      <td>3M Springboard</td>\n      <td>Gold</td>\n    </tr>\n    <tr>\n      <th>4</th>\n      <td>29229</td>\n      <td>2012</td>\n      <td>London</td>\n      <td>Aquatics</td>\n      <td>Diving</td>\n      <td>CAO, Yuan</td>\n      <td>CHN</td>\n      <td>Men</td>\n      <td>Synchronized 10M</td>\n      <td>Gold</td>\n    </tr>\n  </tbody>\n</table>\n</div>"
     },
     "metadata": {},
     "execution_count": 17
    }
   ],
   "source": [
    "df = pd.read_sql(sql, conn)\n",
    "df"
   ]
  },
  {
   "cell_type": "code",
   "execution_count": 5,
   "metadata": {},
   "outputs": [],
   "source": [
    "cur.execute(sql)"
   ]
  },
  {
   "cell_type": "code",
   "execution_count": 6,
   "metadata": {},
   "outputs": [
    {
     "output_type": "stream",
     "name": "stdout",
     "text": [
      "(29217, 2012, 'London', 'Aquatics', 'Diving', 'BOUDIA, David', 'USA', 'Men', '10M Platform', 'Gold')\n(29220, 2012, 'London', 'Aquatics', 'Diving', 'CHEN, Ruolin', 'CHN', 'Women', '10M Platform', 'Gold')\n(29223, 2012, 'London', 'Aquatics', 'Diving', 'ZAKHAROV, Ilya', 'RUS', 'Men', '3M Springboard', 'Gold')\n(29226, 2012, 'London', 'Aquatics', 'Diving', 'WU, Minxia', 'CHN', 'Women', '3M Springboard', 'Gold')\n(29229, 2012, 'London', 'Aquatics', 'Diving', 'CAO, Yuan', 'CHN', 'Men', 'Synchronized 10M', 'Gold')\n"
     ]
    }
   ],
   "source": [
    "for row in cur:\n",
    "    print(row)"
   ]
  },
  {
   "cell_type": "code",
   "execution_count": 13,
   "metadata": {},
   "outputs": [],
   "source": [
    "cur.close()\n",
    "conn.close()"
   ]
  },
  {
   "cell_type": "code",
   "execution_count": null,
   "metadata": {},
   "outputs": [],
   "source": []
  }
 ],
 "metadata": {
  "kernelspec": {
   "display_name": "Python 3.7.7 64-bit ('ai_learn': conda)",
   "language": "python",
   "name": "python37764bitailearncondac55bf7adc40a450a9629c3e2b471f312"
  },
  "language_info": {
   "codemirror_mode": {
    "name": "ipython",
    "version": 3
   },
   "file_extension": ".py",
   "mimetype": "text/x-python",
   "name": "python",
   "nbconvert_exporter": "python",
   "pygments_lexer": "ipython3",
   "version": "3.7.7-final"
  }
 },
 "nbformat": 4,
 "nbformat_minor": 2
}