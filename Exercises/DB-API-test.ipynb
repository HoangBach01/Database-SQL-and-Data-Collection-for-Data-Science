{
 "metadata": {
  "language_info": {
   "codemirror_mode": {
    "name": "ipython",
    "version": 3
   },
   "file_extension": ".py",
   "mimetype": "text/x-python",
   "name": "python",
   "nbconvert_exporter": "python",
   "pygments_lexer": "ipython3",
   "version": "3.7.7-final"
  },
  "orig_nbformat": 2,
  "kernelspec": {
   "name": "python37764bitailearncondac55bf7adc40a450a9629c3e2b471f312",
   "display_name": "Python 3.7.7 64-bit ('ai_learn': conda)",
   "language": "python"
  }
 },
 "nbformat": 4,
 "nbformat_minor": 2,
 "cells": [
  {
   "cell_type": "code",
   "execution_count": 82,
   "metadata": {},
   "outputs": [],
   "source": [
    "from mysql.connector import connect\n",
    "import numpy as np\n",
    "import pandas as pd"
   ]
  },
  {
   "cell_type": "code",
   "execution_count": 113,
   "metadata": {},
   "outputs": [],
   "source": [
    "connection = connect(host='localhost', user='root', password='root', database='TestDB', port='8889')\n",
    "# connection = connect(host='172.24.40.247', user='hv', password='123456', database='olympics', port='3306')"
   ]
  },
  {
   "cell_type": "code",
   "execution_count": 114,
   "metadata": {},
   "outputs": [],
   "source": [
    "cur = connection.cursor()"
   ]
  },
  {
   "cell_type": "code",
   "execution_count": 120,
   "metadata": {},
   "outputs": [],
   "source": [
    "sql = 'select * from medals where year=%(year)s and medal=%(medal)s limit 5'\n",
    "data_list = [{'year': 2012, 'medal': 'Silver'},\n",
    "        {'year': 2012, 'medal': 'Gold'}]"
   ]
  },
  {
   "cell_type": "code",
   "execution_count": 121,
   "metadata": {
    "tags": []
   },
   "outputs": [
    {
     "output_type": "stream",
     "name": "stdout",
     "text": [
      "******************************\n(29218, 2012, 'London', 'Aquatics', 'Diving', 'QIU, Bo', 'CHN', 'Men', '10M Platform', 'Silver')\n(29221, 2012, 'London', 'Aquatics', 'Diving', 'BROBEN, Brittany', 'AUS', 'Women', '10M Platform', 'Silver')\n(29224, 2012, 'London', 'Aquatics', 'Diving', 'QIN, Kai', 'CHN', 'Men', '3M Springboard', 'Silver')\n(29227, 2012, 'London', 'Aquatics', 'Diving', 'HE, Zi', 'CHN', 'Women', '3M Springboard', 'Silver')\n(29231, 2012, 'London', 'Aquatics', 'Diving', 'GARCIA NAVARRO, Ivan', 'MEX', 'Men', 'Synchronized 10M', 'Silver')\n******************************\n(29217, 2012, 'London', 'Aquatics', 'Diving', 'BOUDIA, David', 'USA', 'Men', '10M Platform', 'Gold')\n(29220, 2012, 'London', 'Aquatics', 'Diving', 'CHEN, Ruolin', 'CHN', 'Women', '10M Platform', 'Gold')\n(29223, 2012, 'London', 'Aquatics', 'Diving', 'ZAKHAROV, Ilya', 'RUS', 'Men', '3M Springboard', 'Gold')\n(29226, 2012, 'London', 'Aquatics', 'Diving', 'WU, Minxia', 'CHN', 'Women', '3M Springboard', 'Gold')\n(29229, 2012, 'London', 'Aquatics', 'Diving', 'CAO, Yuan', 'CHN', 'Men', 'Synchronized 10M', 'Gold')\n"
     ]
    }
   ],
   "source": [
    "for data in data_list:\n",
    "    print('*'*30)\n",
    "    cur.execute(sql, data)\n",
    "    for row in cur:\n",
    "        print(row)"
   ]
  },
  {
   "cell_type": "code",
   "execution_count": 122,
   "metadata": {},
   "outputs": [],
   "source": [
    "cur.executemany(sql, data_list)"
   ]
  },
  {
   "cell_type": "code",
   "execution_count": 123,
   "metadata": {},
   "outputs": [],
   "source": [
    "data = []\n",
    "for row in cur:\n",
    "    data.append(list(row))"
   ]
  },
  {
   "cell_type": "code",
   "execution_count": 119,
   "metadata": {},
   "outputs": [
    {
     "output_type": "execute_result",
     "data": {
      "text/plain": [
       "Empty DataFrame\n",
       "Columns: [id, year, city, sport, discipline, athlete, countrycode, gender, event, medal]\n",
       "Index: []"
      ],
      "text/html": "<div>\n<style scoped>\n    .dataframe tbody tr th:only-of-type {\n        vertical-align: middle;\n    }\n\n    .dataframe tbody tr th {\n        vertical-align: top;\n    }\n\n    .dataframe thead th {\n        text-align: right;\n    }\n</style>\n<table border=\"1\" class=\"dataframe\">\n  <thead>\n    <tr style=\"text-align: right;\">\n      <th></th>\n      <th>id</th>\n      <th>year</th>\n      <th>city</th>\n      <th>sport</th>\n      <th>discipline</th>\n      <th>athlete</th>\n      <th>countrycode</th>\n      <th>gender</th>\n      <th>event</th>\n      <th>medal</th>\n    </tr>\n  </thead>\n  <tbody>\n  </tbody>\n</table>\n</div>"
     },
     "metadata": {},
     "execution_count": 119
    }
   ],
   "source": [
    "df = pd.DataFrame(data, columns=['id', 'year', 'city', 'sport', 'discipline', 'athlete', 'countrycode', 'gender', 'event', 'medal'])\n",
    "df"
   ]
  },
  {
   "cell_type": "code",
   "execution_count": 63,
   "metadata": {},
   "outputs": [
    {
     "output_type": "stream",
     "name": "stdout",
     "text": [
      "<class 'pandas.core.frame.DataFrame'>\nRangeIndex: 8003 entries, 0 to 8002\nData columns (total 10 columns):\n #   Column       Non-Null Count  Dtype \n---  ------       --------------  ----- \n 0   id           8003 non-null   int64 \n 1   year         8003 non-null   int64 \n 2   city         8003 non-null   object\n 3   sport        8003 non-null   object\n 4   discipline   8003 non-null   object\n 5   athlete      8003 non-null   object\n 6   countrycode  8003 non-null   object\n 7   gender       8003 non-null   object\n 8   event        8003 non-null   object\n 9   medal        8003 non-null   object\ndtypes: int64(2), object(8)\nmemory usage: 625.4+ KB\n"
     ]
    }
   ],
   "source": [
    "df.info()"
   ]
  },
  {
   "cell_type": "code",
   "execution_count": 51,
   "metadata": {},
   "outputs": [
    {
     "output_type": "execute_result",
     "data": {
      "text/plain": [
       "True"
      ]
     },
     "metadata": {},
     "execution_count": 51
    }
   ],
   "source": [
    "cur.close()"
   ]
  },
  {
   "cell_type": "code",
   "execution_count": null,
   "metadata": {},
   "outputs": [],
   "source": []
  }
 ]
}