{
 "metadata": {
  "language_info": {
   "codemirror_mode": {
    "name": "ipython",
    "version": 3
   },
   "file_extension": ".py",
   "mimetype": "text/x-python",
   "name": "python",
   "nbconvert_exporter": "python",
   "pygments_lexer": "ipython3",
   "version": "3.7.7-final"
  },
  "orig_nbformat": 2,
  "kernelspec": {
   "name": "python37764bitailearncondac55bf7adc40a450a9629c3e2b471f312",
   "display_name": "Python 3.7.7 64-bit ('ai_learn': conda)",
   "language": "python"
  }
 },
 "nbformat": 4,
 "nbformat_minor": 2,
 "cells": [
  {
   "cell_type": "code",
   "execution_count": 5,
   "metadata": {},
   "outputs": [],
   "source": [
    "import pandas as pd\n",
    "from mysql.connector import connect"
   ]
  },
  {
   "cell_type": "code",
   "execution_count": 6,
   "metadata": {},
   "outputs": [],
   "source": [
    "connection = connect(host='localhost', user='root', password='root', database='TestDB', port='8889')\n",
    "cur = connection.cursor()"
   ]
  },
  {
   "cell_type": "code",
   "execution_count": 7,
   "metadata": {},
   "outputs": [
    {
     "output_type": "stream",
     "name": "stdout",
     "text": [
      "<class 'pandas.core.frame.DataFrame'>\nRangeIndex: 193 entries, 0 to 192\nData columns (total 7 columns):\n #   Column                        Non-Null Count  Dtype  \n---  ------                        --------------  -----  \n 0   id                            193 non-null    int64  \n 1   country                       193 non-null    object \n 2   beer_servings                 193 non-null    int64  \n 3   spirit_servings               193 non-null    int64  \n 4   wine_servings                 193 non-null    int64  \n 5   total_litres_of_pure_alcohol  193 non-null    float64\n 6   continent                     170 non-null    object \ndtypes: float64(1), int64(4), object(2)\nmemory usage: 10.7+ KB\n"
     ]
    }
   ],
   "source": [
    "drinks_file = pd.read_csv('drinks.csv')\n",
    "drinks_file.info()"
   ]
  },
  {
   "cell_type": "code",
   "execution_count": 8,
   "metadata": {},
   "outputs": [
    {
     "output_type": "stream",
     "name": "stdout",
     "text": [
      "Inserted row:  1\nInserted row:  2\nInserted row:  3\nInserted row:  4\nInserted row:  5\nInserted row:  6\nInserted row:  7\nInserted row:  8\nInserted row:  9\nInserted row:  10\nInserted row:  11\nInserted row:  12\nInserted row:  13\nInserted row:  14\nInserted row:  15\nInserted row:  16\nInserted row:  17\nInserted row:  18\nInserted row:  19\nInserted row:  20\nInserted row:  21\nInserted row:  22\nInserted row:  23\nInserted row:  24\nInserted row:  25\nInserted row:  26\nInserted row:  27\nInserted row:  28\nInserted row:  29\nInserted row:  30\nInserted row:  31\nInserted row:  32\nInserted row:  33\nInserted row:  34\nInserted row:  35\nInserted row:  36\nInserted row:  37\nInserted row:  38\nInserted row:  39\nInserted row:  40\nInserted row:  41\nInserted row:  42\nInserted row:  43\nInserted row:  44\nInserted row:  45\nInserted row:  46\nInserted row:  47\nInserted row:  48\nInserted row:  49\nInserted row:  50\nInserted row:  51\nInserted row:  52\nInserted row:  53\nInserted row:  54\nInserted row:  55\nInserted row:  56\nInserted row:  57\nInserted row:  58\nInserted row:  59\nInserted row:  60\nInserted row:  61\nInserted row:  62\nInserted row:  63\nInserted row:  64\nInserted row:  65\nInserted row:  66\nInserted row:  67\nInserted row:  68\nInserted row:  69\nInserted row:  70\nInserted row:  71\nInserted row:  72\nInserted row:  73\nInserted row:  74\nInserted row:  75\nInserted row:  76\nInserted row:  77\nInserted row:  78\nInserted row:  79\nInserted row:  80\nInserted row:  81\nInserted row:  82\nInserted row:  83\nInserted row:  84\nInserted row:  85\nInserted row:  86\nInserted row:  87\nInserted row:  88\nInserted row:  89\nInserted row:  90\nInserted row:  91\nInserted row:  92\nInserted row:  93\nInserted row:  94\nInserted row:  95\nInserted row:  96\nInserted row:  97\nInserted row:  98\nInserted row:  99\nInserted row:  100\nInserted row:  101\nInserted row:  102\nInserted row:  103\nInserted row:  104\nInserted row:  105\nInserted row:  106\nInserted row:  107\nInserted row:  108\nInserted row:  109\nInserted row:  110\nInserted row:  111\nInserted row:  112\nInserted row:  113\nInserted row:  114\nInserted row:  115\nInserted row:  116\nInserted row:  117\nInserted row:  118\nInserted row:  119\nInserted row:  120\nInserted row:  121\nInserted row:  122\nInserted row:  123\nInserted row:  124\nInserted row:  125\nInserted row:  126\nInserted row:  127\nInserted row:  128\nInserted row:  129\nInserted row:  130\nInserted row:  131\nInserted row:  132\nInserted row:  133\nInserted row:  134\nInserted row:  135\nInserted row:  136\nInserted row:  137\nInserted row:  138\nInserted row:  139\nInserted row:  140\nInserted row:  141\nInserted row:  142\nInserted row:  143\nInserted row:  144\nInserted row:  145\nInserted row:  146\nInserted row:  147\nInserted row:  148\nInserted row:  149\nInserted row:  150\nInserted row:  151\nInserted row:  152\nInserted row:  153\nInserted row:  154\nInserted row:  155\nInserted row:  156\nInserted row:  157\nInserted row:  158\nInserted row:  159\nInserted row:  160\nInserted row:  161\nInserted row:  162\nInserted row:  163\nInserted row:  164\nInserted row:  165\nInserted row:  166\nInserted row:  167\nInserted row:  168\nInserted row:  169\nInserted row:  170\nInserted row:  171\nInserted row:  172\nInserted row:  173\nInserted row:  174\nInserted row:  175\nInserted row:  176\nInserted row:  177\nInserted row:  178\nInserted row:  179\nInserted row:  180\nInserted row:  181\nInserted row:  182\nInserted row:  183\nInserted row:  184\nInserted row:  185\nInserted row:  186\nInserted row:  187\nInserted row:  188\nInserted row:  189\nInserted row:  190\nInserted row:  191\nInserted row:  192\nInserted row:  193\nDone\n"
     ]
    },
    {
     "output_type": "execute_result",
     "data": {
      "text/plain": [
       "True"
      ]
     },
     "metadata": {},
     "execution_count": 8
    }
   ],
   "source": [
    "i = 1\n",
    "for row in drinks_file.iterrows():\n",
    "    list = row[1].values\n",
    "    cur.execute('''\n",
    "            INSERT INTO drinks (id, country, beer_servings, spirit_servings, wine_servings, total_litres_of_pure_alcohol, continent) \n",
    "            VALUES (\"%d\", \"%s\", \"%d\", \"%d\", \"%d\", \"%f\", \"%s\")\n",
    "            ''' %tuple(list))\n",
    "            \n",
    "    print('Inserted row: ',i)\n",
    "    i += 1\n",
    "print('Done')\n",
    "cur.execute(\"UPDATE TestDB.drinks SET continent = NULL WHERE continent = 'nan'\")\n",
    "connection.commit()\n",
    "cur.close()"
   ]
  }
 ]
}