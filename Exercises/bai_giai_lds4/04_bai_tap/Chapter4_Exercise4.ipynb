{
 "cells": [
  {
   "cell_type": "markdown",
   "metadata": {},
   "source": [
    "## Chapter 4 – Exercise 4:  Sử dụng Mysql Connector để thực hiện các truy vấn có tham số"
   ]
  },
  {
   "cell_type": "markdown",
   "metadata": {},
   "source": [
    "#### Học viên thực hiện các yêu cầu sau và đối chiếu với kết quả cho trước (nếu có):"
   ]
  },
  {
   "cell_type": "code",
   "execution_count": 1,
   "metadata": {},
   "outputs": [],
   "source": [
    "from mysql.connector import connect"
   ]
  },
  {
   "cell_type": "code",
   "execution_count": 2,
   "metadata": {},
   "outputs": [],
   "source": [
    "conn = connect(host='localhost', port=3308, database='salesdb', user='root', password='')"
   ]
  },
  {
   "cell_type": "code",
   "execution_count": 3,
   "metadata": {},
   "outputs": [],
   "source": [
    "# Câu 1: Liệt kê danh sách các sản phẩm do công ty 'Tokyo Traders' cung cấp, với tham số tên công ty do người dùng nhập vào\n",
    "sql = \"\"\"\n",
    "SELECT p.*, s.CompanyName\n",
    "FROM products p JOIN suppliers s ON p.SupplierId=s.Id\n",
    "WHERE s.CompanyName=%s\n",
    "\"\"\""
   ]
  },
  {
   "cell_type": "code",
   "execution_count": 4,
   "metadata": {},
   "outputs": [
    {
     "name": "stdout",
     "output_type": "stream",
     "text": [
      "Nhập tên nhà cung cấp: Tokyo Traders\n",
      "(9, 'Mishi Kobe Niku', 4, Decimal('97.00'), '18 - 500 g pkgs.', 1, 'Tokyo Traders')\n",
      "(10, 'Ikura', 4, Decimal('31.00'), '12 - 200 ml jars', 0, 'Tokyo Traders')\n",
      "(74, 'Longlife Tofu', 4, Decimal('10.00'), '5 kg pkg.', 0, 'Tokyo Traders')\n"
     ]
    }
   ],
   "source": [
    "cur = conn.cursor()\n",
    "#name = 'Tokyo Traders'\n",
    "name = input(\"Nhập tên nhà cung cấp: \")\n",
    "data = (name,)\n",
    "cur.execute(sql, data)\n",
    "row = cur.fetchone()\n",
    "while row:\n",
    "    print(row)\n",
    "    row = cur.fetchone() \n",
    "cur.close()   \n",
    "conn.close()"
   ]
  },
  {
   "cell_type": "markdown",
   "metadata": {},
   "source": [
    "<details>\n",
    "  <summary>Nhấn vào đây để xem kết quả!</summary>\n",
    "  <pre>Nhập tên nhà cung cấp: Tokyo Traders\n",
    "(9, 'Mishi Kobe Niku', 4, Decimal('97.00'), '18 - 500 g pkgs.', 1, 'Tokyo Traders')\n",
    "(10, 'Ikura', 4, Decimal('31.00'), '12 - 200 ml jars', 0, 'Tokyo Traders')\n",
    "(74, 'Longlife Tofu', 4, Decimal('10.00'), '5 kg pkg.', 0, 'Tokyo Traders')\n",
    "</pre>\n",
    "  \n",
    "</details>"
   ]
  },
  {
   "cell_type": "code",
   "execution_count": 5,
   "metadata": {},
   "outputs": [],
   "source": [
    "def run_sql(sql, data):\n",
    "    cur = conn.cursor()\n",
    "    cur.execute(sql, data)\n",
    "    row = cur.fetchone()\n",
    "    while row:\n",
    "        print(row)\n",
    "        row = cur.fetchone()    \n",
    "    cur.close()"
   ]
  },
  {
   "cell_type": "code",
   "execution_count": 6,
   "metadata": {},
   "outputs": [],
   "source": [
    "conn = connect(host='localhost', port=3308, database='salesdb', user='root', password='')"
   ]
  },
  {
   "cell_type": "code",
   "execution_count": 7,
   "metadata": {},
   "outputs": [],
   "source": [
    "# Câu 2: Cập nhật đơn giá tăng thêm 3usd cho các sản phẩm do công ty 'Tokyo Traders' cung cấp, \n",
    "# với tham số đơn giá tăng và tên công ty do người dùng nhập vào\n",
    "sql = \"\"\"\n",
    "UPDATE products p JOIN suppliers s ON p.SupplierId=s.Id\n",
    "SET UnitPrice=UnitPrice+%s\n",
    "WHERE s.CompanyName=%s\n",
    "\"\"\""
   ]
  },
  {
   "cell_type": "code",
   "execution_count": 8,
   "metadata": {},
   "outputs": [
    {
     "name": "stdout",
     "output_type": "stream",
     "text": [
      "Nhập giá trị đơn giá tăng thêm: 3\n",
      "Nhập tên nhà cung cấp: Tokyo Traders\n"
     ]
    }
   ],
   "source": [
    "#name = 'Tokyo Traders'\n",
    "#price = 3\n",
    "price = input(\"Nhập giá trị đơn giá tăng thêm: \")\n",
    "name = input(\"Nhập tên nhà cung cấp: \")\n",
    "data = (price, name)\n",
    "run_sql(sql, data)"
   ]
  },
  {
   "cell_type": "markdown",
   "metadata": {},
   "source": [
    "<details>\n",
    "  <summary>Nhấn vào đây để xem kết quả!</summary>\n",
    "  <pre>Nhập giá trị đơn giá tăng thêm: 3\n",
    "Nhập tên nhà cung cấp: Tokyo Traders\n",
    "</pre>\n",
    "  \n",
    "</details>"
   ]
  },
  {
   "cell_type": "code",
   "execution_count": 9,
   "metadata": {},
   "outputs": [],
   "source": [
    "# Câu 3: Thêm sản phẩm mới vào bảng Products với các giá trị tương ứng do người dùng nhập vào. \n",
    "# Sau khi thêm, xuất thông báo hỏi người dùng có thêm tiếp hay không (Y/N). \n",
    "# Nếu trả lời Y sẽ cho phép thêm tiếp sản phẩm mới, nếu trả lời N sẽ thoát quá trình thêm sản phẩm.\n",
    "\n"
   ]
  },
  {
   "cell_type": "code",
   "execution_count": 10,
   "metadata": {},
   "outputs": [],
   "source": [
    "# Câu 4: Xóa thông tin đơn đặt hàng theo số đặt hàng (OrderId), trong đó số đặt hàng do người dùng nhập vào\n",
    "\n"
   ]
  },
  {
   "cell_type": "code",
   "execution_count": 11,
   "metadata": {},
   "outputs": [],
   "source": [
    "conn.close()"
   ]
  }
 ],
 "metadata": {
  "kernelspec": {
   "display_name": "Python 3",
   "language": "python",
   "name": "python3"
  },
  "language_info": {
   "codemirror_mode": {
    "name": "ipython",
    "version": 3
   },
   "file_extension": ".py",
   "mimetype": "text/x-python",
   "name": "python",
   "nbconvert_exporter": "python",
   "pygments_lexer": "ipython3",
   "version": "3.7.4"
  }
 },
 "nbformat": 4,
 "nbformat_minor": 2
}
