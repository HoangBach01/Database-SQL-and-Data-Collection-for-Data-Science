{
 "cells": [
  {
   "cell_type": "markdown",
   "metadata": {},
   "source": [
    "## Chapter 4 – Exercise 2: Sử dụng Mysql Connector để thực hiện các truy vấn dữ liệu đơn giản trên 1 bảng"
   ]
  },
  {
   "cell_type": "markdown",
   "metadata": {},
   "source": [
    "#### Học viên thực hiện các yêu cầu sau và đối chiếu với kết quả cho trước:"
   ]
  },
  {
   "cell_type": "code",
   "execution_count": 1,
   "metadata": {},
   "outputs": [],
   "source": [
    "from mysql.connector import connect"
   ]
  },
  {
   "cell_type": "code",
   "execution_count": 3,
   "metadata": {},
   "outputs": [],
   "source": [
    "# Câu 1: Sử dụng tập tin SALESDB_data.sql để import dữ liệu vào các bảng tương ứng trong database SALESDB\n",
    "conn = connect(host='localhost', port=3308, database='salesdb', user='root', password='')"
   ]
  },
  {
   "cell_type": "code",
   "execution_count": 4,
   "metadata": {},
   "outputs": [],
   "source": [
    "# Câu 2: Liệt kê danh sách các khách hàng ở Brazil, duyệt và xuất ra từng dòng dữ liệu thỏa điều kiện\n",
    "cur = conn.cursor()\n",
    "sql = \"select * from customers where country='brazil' order by lastname\"\n",
    "cur.execute(sql)"
   ]
  },
  {
   "cell_type": "code",
   "execution_count": 5,
   "metadata": {},
   "outputs": [
    {
     "name": "stdout",
     "output_type": "stream",
     "text": [
      "(15, 'Pedro', 'Afonso', 'Sao Paulo', 'Brazil', '(11) 555-7647')\n",
      "(61, 'Bernardo', 'Batista', 'Rio de Janeiro', 'Brazil', '(21) 555-4252')\n",
      "(62, 'Lúcia', 'Carvalho', 'Sao Paulo', 'Brazil', '(11) 555-1189')\n",
      "(21, 'Aria', 'Cruz', 'Sao Paulo', 'Brazil', '(11) 555-9857')\n",
      "(81, 'Anabela', 'Domingues', 'Sao Paulo', 'Brazil', '(11) 555-2167')\n",
      "(31, 'André', 'Fonseca', 'Campinas', 'Brazil', '(11) 555-9482')\n",
      "(67, 'Janete', 'Limeira', 'Rio de Janeiro', 'Brazil', '(21) 555-3412')\n",
      "(88, 'Paula', 'Parente', 'Resende', 'Brazil', '(14) 555-8122')\n",
      "(34, 'Mario', 'Pontes', 'Rio de Janeiro', 'Brazil', '(21) 555-0091')\n"
     ]
    }
   ],
   "source": [
    "row = cur.fetchone()\n",
    "while row:\n",
    "    print(row)\n",
    "    row = cur.fetchone()    "
   ]
  },
  {
   "cell_type": "markdown",
   "metadata": {},
   "source": [
    "<details>\n",
    "  <summary>Nhấn vào đây để xem kết quả!</summary>\n",
    "  <pre>(15, 'Pedro', 'Afonso', 'Sao Paulo', 'Brazil', '(11) 555-7647')\n",
    "(61, 'Bernardo', 'Batista', 'Rio de Janeiro', 'Brazil', '(21) 555-4252')\n",
    "(62, 'Lúcia', 'Carvalho', 'Sao Paulo', 'Brazil', '(11) 555-1189')\n",
    "(21, 'Aria', 'Cruz', 'Sao Paulo', 'Brazil', '(11) 555-9857')\n",
    "(81, 'Anabela', 'Domingues', 'Sao Paulo', 'Brazil', '(11) 555-2167')\n",
    "(31, 'André', 'Fonseca', 'Campinas', 'Brazil', '(11) 555-9482')\n",
    "(67, 'Janete', 'Limeira', 'Rio de Janeiro', 'Brazil', '(21) 555-3412')\n",
    "(88, 'Paula', 'Parente', 'Resende', 'Brazil', '(14) 555-8122')\n",
    "(34, 'Mario', 'Pontes', 'Rio de Janeiro', 'Brazil', '(21) 555-0091')\n",
    "</pre>\n",
    "  \n",
    "</details>"
   ]
  },
  {
   "cell_type": "code",
   "execution_count": 6,
   "metadata": {},
   "outputs": [],
   "source": [
    "cur.close()\n",
    "conn.close()"
   ]
  },
  {
   "cell_type": "code",
   "execution_count": 7,
   "metadata": {},
   "outputs": [],
   "source": [
    "# Câu 3: Liệt kê danh sách các nhà cung cấp không có số Fax, duyệt và xuất ra từng dòng dữ liệu thỏa điều kiện\n",
    "def run_sql(sql):\n",
    "    cur = conn.cursor()\n",
    "    cur.execute(sql)\n",
    "    row = cur.fetchone()\n",
    "    while row:\n",
    "        print(row)\n",
    "        row = cur.fetchone()    \n",
    "    cur.close()"
   ]
  },
  {
   "cell_type": "code",
   "execution_count": 8,
   "metadata": {},
   "outputs": [],
   "source": [
    "conn = connect(host='localhost', port=3308, database='salesdb', user='root', password='')"
   ]
  },
  {
   "cell_type": "code",
   "execution_count": 9,
   "metadata": {},
   "outputs": [
    {
     "name": "stdout",
     "output_type": "stream",
     "text": [
      "(1, 'Exotic Liquids', 'Charlotte Cooper', None, 'London', 'UK', '(171) 555-2222', None)\n",
      "(2, 'New Orleans Ca6/Delights', 'Shelley Burke', None, 'New Orleans', 'USA', '(100) 555-4822', None)\n",
      "(4, 'Tokyo Traders', 'Yoshi Nagase', None, 'Tokyo', 'Japan', '(03) 3555-5011', None)\n",
      "(5, \"Cooperativa de Quesos 'Las Cabras'\", 'Antonio del Valle Saavedra', None, 'Oviedo', 'Spain', '(98) 598 76 54', None)\n",
      "(6, \"Mayumi's\", 'Mayumi Ohno', None, 'Osaka', 'Japan', '(06) 431-7877', None)\n",
      "(8, 'Specialty Biscuits, Ltd.', 'Peter Wilson', None, 'Manchester', 'UK', '(161) 555-4448', None)\n",
      "(10, 'Refrescos Americanas LTDA', 'Carlos Diaz', None, 'Sao Paulo', 'Brazil', '(11) 555 4640', None)\n",
      "(11, 'Heli Süßwaren GmbH & Co. KG', 'Petra Winkler', None, 'Berlin', 'Germany', '(010) 9984510', None)\n",
      "(12, 'Plutzer Lebensmittelgroßmärkte AG', 'Martin Bein', None, 'Frankfurt', 'Germany', '(069) 992755', None)\n",
      "(15, 'Norske Meierier', 'Beate Vileid', None, 'Sandvika', 'Norway', '(0) 2-953010', None)\n",
      "(16, 'Bigfoot Breweries', 'Cheryl Saylor', None, 'Bend', 'USA', '(503) 555-9931', None)\n",
      "(17, 'Svensk Sjöföda AB', 'Michael Björn', None, 'Stockholm', 'Sweden', '08-123 45 67', None)\n",
      "(20, 'Leka Trading', 'Chandra Leka', None, 'Singapore', 'Singapore', '555-8787', None)\n",
      "(23, 'Karkki Oy', 'Anne Heikkonen', None, 'Lappeenranta', 'Finland', '(953) 10956', None)\n",
      "(25, 'Ma Maison', 'Jean-Guy Lauzon', None, 'Montréal', 'Canada', '(514) 555-9022', None)\n",
      "(27, 'Escargots Nouveaux', 'Marie Delamare', None, 'Montceau', 'France', '85.57.00.07', None)\n"
     ]
    }
   ],
   "source": [
    "sql = \"SELECT * FROM suppliers WHERE fax is null\"\n",
    "run_sql(sql)"
   ]
  },
  {
   "cell_type": "markdown",
   "metadata": {},
   "source": [
    "<details>\n",
    "  <summary>Nhấn vào đây để xem kết quả!</summary>\n",
    "  <pre>(1, 'Exotic Liquids', 'Charlotte Cooper', None, 'London', 'UK', '(171) 555-2222', None)\n",
    "(2, 'New Orleans Ca6/Delights', 'Shelley Burke', None, 'New Orleans', 'USA', '(100) 555-4822', None)\n",
    "(4, 'Tokyo Traders', 'Yoshi Nagase', None, 'Tokyo', 'Japan', '(03) 3555-5011', None)\n",
    "(5, \"Cooperativa de Quesos 'Las Cabras'\", 'Antonio del Valle Saavedra', None, 'Oviedo', 'Spain', '(98) 598 76 54', None)\n",
    "(6, \"Mayumi's\", 'Mayumi Ohno', None, 'Osaka', 'Japan', '(06) 431-7877', None)\n",
    "(8, 'Specialty Biscuits, Ltd.', 'Peter Wilson', None, 'Manchester', 'UK', '(161) 555-4448', None)\n",
    "(10, 'Refrescos Americanas LTDA', 'Carlos Diaz', None, 'Sao Paulo', 'Brazil', '(11) 555 4640', None)\n",
    "(11, 'Heli Süßwaren GmbH &amp; Co. KG', 'Petra Winkler', None, 'Berlin', 'Germany', '(010) 9984510', None)\n",
    "(12, 'Plutzer Lebensmittelgroßmärkte AG', 'Martin Bein', None, 'Frankfurt', 'Germany', '(069) 992755', None)\n",
    "(15, 'Norske Meierier', 'Beate Vileid', None, 'Sandvika', 'Norway', '(0) 2-953010', None)\n",
    "(16, 'Bigfoot Breweries', 'Cheryl Saylor', None, 'Bend', 'USA', '(503) 555-9931', None)\n",
    "(17, 'Svensk Sjöföda AB', 'Michael Björn', None, 'Stockholm', 'Sweden', '08-123 45 67', None)\n",
    "(20, 'Leka Trading', 'Chandra Leka', None, 'Singapore', 'Singapore', '555-8787', None)\n",
    "(23, 'Karkki Oy', 'Anne Heikkonen', None, 'Lappeenranta', 'Finland', '(953) 10956', None)\n",
    "(25, 'Ma Maison', 'Jean-Guy Lauzon', None, 'Montréal', 'Canada', '(514) 555-9022', None)\n",
    "(27, 'Escargots Nouveaux', 'Marie Delamare', None, 'Montceau', 'France', '85.57.00.07', None)\n",
    "</pre>\n",
    "  \n",
    "</details>"
   ]
  },
  {
   "cell_type": "code",
   "execution_count": 10,
   "metadata": {},
   "outputs": [
    {
     "name": "stdout",
     "output_type": "stream",
     "text": [
      "(59, 'Raclette Courdavault', 28, Decimal('55.00'), '5 kg pkg.', 0)\n",
      "(51, 'Manjimup Dried Apples', 24, Decimal('53.00'), '50 - 300 g pkgs.', 0)\n",
      "(62, 'Tarte au sucre', 29, Decimal('49.30'), '48 pies', 0)\n",
      "(43, 'Ipoh Coffee', 20, Decimal('46.00'), '16 - 500 g tins', 0)\n",
      "(28, 'Rössle Sauerkraut', 12, Decimal('45.60'), '25 - 825 g cans', 1)\n",
      "(27, 'Schoggi Schokolade', 11, Decimal('43.90'), '100 - 100 g pieces', 0)\n",
      "(63, 'Vegie-spread', 7, Decimal('43.90'), '15 - 625 g jars', 0)\n",
      "(8, 'Northwoods Cranberry Sauce', 3, Decimal('40.00'), '12 - 12 oz jars', 0)\n",
      "(17, 'Alice Mutton', 7, Decimal('39.00'), '20 - 1 kg tins', 1)\n",
      "(12, 'Queso Manchego La Pastora', 5, Decimal('38.00'), '10 - 500 g pkgs.', 0)\n",
      "(56, 'Gnocchi di nonna Alice', 26, Decimal('38.00'), '24 - 250 g pkgs.', 0)\n",
      "(69, 'Gudbrandsdalsost', 15, Decimal('36.00'), '10 kg pkg.', 0)\n",
      "(72, 'Mozzarella di Giovanni', 14, Decimal('34.80'), '24 - 200 g pkgs.', 0)\n",
      "(60, 'Camembert Pierrot', 28, Decimal('34.00'), '15 - 300 g rounds', 0)\n",
      "(64, 'Wimmers gute Semmelknödel', 12, Decimal('33.25'), '20 bags x 4 pieces', 0)\n",
      "(53, 'Perth Pasties', 24, Decimal('32.80'), '48 pieces', 1)\n",
      "(32, 'Mascarpone Fabioli', 14, Decimal('32.00'), '24 - 200 g pkgs.', 0)\n",
      "(26, 'Gumbär Gummibärchen', 11, Decimal('31.23'), '100 - 250 g bags', 0)\n",
      "(10, 'Ikura', 4, Decimal('31.00'), '12 - 200 ml jars', 0)\n",
      "(7, \"Uncle Bob's Organic Dried Pears\", 3, Decimal('30.00'), '12 - 1 lb pkgs.', 0)\n"
     ]
    }
   ],
   "source": [
    "# Câu 4: Liệt kê danh sách tất cả các sản phẩm có đơn giá từ 30 đến 60 usd\n",
    "sql = \"SELECT * FROM products WHERE UnitPrice BETWEEN 30 AND 60 ORDER BY UnitPrice DESC\"\n",
    "run_sql(sql)"
   ]
  },
  {
   "cell_type": "markdown",
   "metadata": {},
   "source": [
    "<details>\n",
    "  <summary>Nhấn vào đây để xem kết quả!</summary>\n",
    "  <pre>(59, 'Raclette Courdavault', 28, Decimal('55.00'), '5 kg pkg.', 0)\n",
    "(51, 'Manjimup Dried Apples', 24, Decimal('53.00'), '50 - 300 g pkgs.', 0)\n",
    "(62, 'Tarte au sucre', 29, Decimal('49.30'), '48 pies', 0)\n",
    "(43, 'Ipoh Coffee', 20, Decimal('46.00'), '16 - 500 g tins', 0)\n",
    "(28, 'Rössle Sauerkraut', 12, Decimal('45.60'), '25 - 825 g cans', 1)\n",
    "(27, 'Schoggi Schokolade', 11, Decimal('43.90'), '100 - 100 g pieces', 0)\n",
    "(63, 'Vegie-spread', 7, Decimal('43.90'), '15 - 625 g jars', 0)\n",
    "(8, 'Northwoods Cranberry Sauce', 3, Decimal('40.00'), '12 - 12 oz jars', 0)\n",
    "(17, 'Alice Mutton', 7, Decimal('39.00'), '20 - 1 kg tins', 1)\n",
    "(12, 'Queso Manchego La Pastora', 5, Decimal('38.00'), '10 - 500 g pkgs.', 0)\n",
    "(56, 'Gnocchi di nonna Alice', 26, Decimal('38.00'), '24 - 250 g pkgs.', 0)\n",
    "(69, 'Gudbrandsdalsost', 15, Decimal('36.00'), '10 kg pkg.', 0)\n",
    "(72, 'Mozzarella di Giovanni', 14, Decimal('34.80'), '24 - 200 g pkgs.', 0)\n",
    "(60, 'Camembert Pierrot', 28, Decimal('34.00'), '15 - 300 g rounds', 0)\n",
    "(64, 'Wimmers gute Semmelknödel', 12, Decimal('33.25'), '20 bags x 4 pieces', 0)\n",
    "(53, 'Perth Pasties', 24, Decimal('32.80'), '48 pieces', 1)\n",
    "(32, 'Mascarpone Fabioli', 14, Decimal('32.00'), '24 - 200 g pkgs.', 0)\n",
    "(26, 'Gumbär Gummibärchen', 11, Decimal('31.23'), '100 - 250 g bags', 0)\n",
    "(10, 'Ikura', 4, Decimal('31.00'), '12 - 200 ml jars', 0)\n",
    "(7, \"Uncle Bob's Organic Dried Pears\", 3, Decimal('30.00'), '12 - 1 lb pkgs.', 0)\n",
    "</pre>\n",
    "  \n",
    "</details>"
   ]
  },
  {
   "cell_type": "code",
   "execution_count": 11,
   "metadata": {},
   "outputs": [
    {
     "name": "stdout",
     "output_type": "stream",
     "text": [
      "(9, 'Mishi Kobe Niku', 4, Decimal('97.00'), '18 - 500 g pkgs.', 1)\n",
      "(29, 'Thüringer Rostbratwurst', 12, Decimal('123.79'), '50 bags x 30 sausgs.', 1)\n"
     ]
    }
   ],
   "source": [
    "# Câu 5: Liệt kê danh sách tất cả các sản phẩm có đơn giá lớn hơn 60 usd và đã ngưng bán\n",
    "sql = \"SELECT * FROM products WHERE UnitPrice>60 AND IsDiscontinued\"\n",
    "run_sql(sql)"
   ]
  },
  {
   "cell_type": "markdown",
   "metadata": {},
   "source": [
    "<details>\n",
    "  <summary>Nhấn vào đây để xem kết quả!</summary>\n",
    "  <pre>(9, 'Mishi Kobe Niku', 4, Decimal('97.00'), '18 - 500 g pkgs.', 1)\n",
    "(29, 'Thüringer Rostbratwurst', 12, Decimal('123.79'), '50 bags x 30 sausgs.', 1)\n",
    "</pre>\n",
    "  \n",
    "</details>"
   ]
  },
  {
   "cell_type": "code",
   "execution_count": 12,
   "metadata": {},
   "outputs": [
    {
     "name": "stdout",
     "output_type": "stream",
     "text": [
      "(3, 'Antonio', 'Moreno', 'México D.F.', 'Mexico', '(5) 555-3932')\n",
      "(6, 'Hanna', 'Moos', 'Mannheim', 'Germany', '0621-08460')\n",
      "(15, 'Pedro', 'Afonso', 'Sao Paulo', 'Brazil', '(11) 555-7647')\n",
      "(66, 'Maurizio', 'Moroni', 'Reggio Emilia', 'Italy', '0522-556721')\n",
      "(80, 'Miguel', 'Angel Paolino', 'México D.F.', 'Mexico', '(5) 555-2933')\n",
      "(87, 'Pirkko', 'Koskitalo', 'Oulu', 'Finland', '981-443655')\n"
     ]
    }
   ],
   "source": [
    "# Câu 6: Liệt kê danh sách các khách hàng trong tên có 2 chữ 'o' (vd: Antonio)\n",
    "sql = \"SELECT * FROM `customers` WHERE `LastName` LIKE '%o%o%'\"\n",
    "run_sql(sql)"
   ]
  },
  {
   "cell_type": "markdown",
   "metadata": {},
   "source": [
    "<details>\n",
    "  <summary>Nhấn vào đây để xem kết quả!</summary>\n",
    "  <pre>(3, 'Antonio', 'Moreno', 'México D.F.', 'Mexico', '(5) 555-3932')\n",
    "(6, 'Hanna', 'Moos', 'Mannheim', 'Germany', '0621-08460')\n",
    "(15, 'Pedro', 'Afonso', 'Sao Paulo', 'Brazil', '(11) 555-7647')\n",
    "(66, 'Maurizio', 'Moroni', 'Reggio Emilia', 'Italy', '0522-556721')\n",
    "(80, 'Miguel', 'Angel Paolino', 'México D.F.', 'Mexico', '(5) 555-2933')\n",
    "(87, 'Pirkko', 'Koskitalo', 'Oulu', 'Finland', '981-443655')\n",
    "</pre>\n",
    "  \n",
    "</details>"
   ]
  },
  {
   "cell_type": "code",
   "execution_count": 13,
   "metadata": {},
   "outputs": [
    {
     "name": "stdout",
     "output_type": "stream",
     "text": [
      "(6, 'Hanna', 'Moos', 'Mannheim', 'Germany', '0621-08460')\n",
      "(8, 'Martín', 'Sommer', 'Madrid', 'Spain', '(91) 555 22 82')\n",
      "(9, 'Laurence', 'Lebihan', 'Marseille', 'France', '91.24.45.40')\n",
      "(15, 'Pedro', 'Afonso', 'Sao Paulo', 'Brazil', '(11) 555-7647')\n",
      "(22, 'Diego', 'Roel', 'Madrid', 'Spain', '(91) 555 94 44')\n",
      "(69, 'Alejandra', 'Camino', 'Madrid', 'Spain', '(91) 745 6200')\n",
      "(80, 'Miguel', 'Angel Paolino', 'México D.F.', 'Mexico', '(5) 555-2933')\n"
     ]
    }
   ],
   "source": [
    "# Câu 7: Liệt kê danh sách các khách hàng có tên bắt đầu bằng chữ 'A' và kết thúc bằng chữ 'o' hoặc ở thành phố bắt đầu bằng 'Ma'\n",
    "sql = \"SELECT * FROM `customers` WHERE `LastName` LIKE 'A%o' OR `City` LIKE 'Ma%'\"\n",
    "run_sql(sql)"
   ]
  },
  {
   "cell_type": "markdown",
   "metadata": {},
   "source": [
    "<details>\n",
    "  <summary>Nhấn vào đây để xem kết quả!</summary>\n",
    "  <pre>(6, 'Hanna', 'Moos', 'Mannheim', 'Germany', '0621-08460')\n",
    "(8, 'Martín', 'Sommer', 'Madrid', 'Spain', '(91) 555 22 82')\n",
    "(9, 'Laurence', 'Lebihan', 'Marseille', 'France', '91.24.45.40')\n",
    "(15, 'Pedro', 'Afonso', 'Sao Paulo', 'Brazil', '(11) 555-7647')\n",
    "(22, 'Diego', 'Roel', 'Madrid', 'Spain', '(91) 555 94 44')\n",
    "(69, 'Alejandra', 'Camino', 'Madrid', 'Spain', '(91) 745 6200')\n",
    "(80, 'Miguel', 'Angel Paolino', 'México D.F.', 'Mexico', '(5) 555-2933')\n",
    "</pre>\n",
    "  \n",
    "</details>"
   ]
  },
  {
   "cell_type": "code",
   "execution_count": 14,
   "metadata": {},
   "outputs": [],
   "source": [
    "conn.close()"
   ]
  }
 ],
 "metadata": {
  "kernelspec": {
   "display_name": "Python 3",
   "language": "python",
   "name": "python3"
  },
  "language_info": {
   "codemirror_mode": {
    "name": "ipython",
    "version": 3
   },
   "file_extension": ".py",
   "mimetype": "text/x-python",
   "name": "python",
   "nbconvert_exporter": "python",
   "pygments_lexer": "ipython3",
   "version": "3.7.4"
  }
 },
 "nbformat": 4,
 "nbformat_minor": 4
}
