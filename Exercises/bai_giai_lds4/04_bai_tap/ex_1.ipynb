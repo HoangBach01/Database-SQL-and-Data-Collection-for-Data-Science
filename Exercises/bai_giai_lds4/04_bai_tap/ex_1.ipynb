{
 "cells": [
  {
   "cell_type": "code",
   "execution_count": 15,
   "metadata": {},
   "outputs": [],
   "source": [
    "from mysql.connector import connect"
   ]
  },
  {
   "cell_type": "code",
   "execution_count": 16,
   "metadata": {},
   "outputs": [],
   "source": [
    "conn = connect(host='localhost', port=3308, database='salesdb', user='root', password='')"
   ]
  },
  {
   "cell_type": "code",
   "execution_count": 17,
   "metadata": {},
   "outputs": [],
   "source": [
    "f = open('SALESDB_model.sql', 'r',encoding=\"UTF-8\")\n",
    "script = f.read().split(';')\n",
    "cur = conn.cursor()\n",
    "for stmt in script:\n",
    "    try:        \n",
    "        cur.execute(stmt)\n",
    "    except Exception as er:\n",
    "        print('Lỗi: ', er)\n",
    "    else:         \n",
    "        conn.commit() \n",
    "f.close()\n",
    "conn.close()"
   ]
  },
  {
   "cell_type": "code",
   "execution_count": 18,
   "metadata": {},
   "outputs": [],
   "source": [
    "conn = connect(host='localhost', port=3308, database='salesdb', user='root', password='')"
   ]
  },
  {
   "cell_type": "code",
   "execution_count": 19,
   "metadata": {},
   "outputs": [],
   "source": [
    "f = open('SALESDB_data.sql', 'r',encoding=\"UTF-8\")\n",
    "script = f.read().split(';')\n",
    "cur = conn.cursor()\n",
    "i=0\n",
    "for stmt in script:\n",
    "    try:        \n",
    "        i+=1\n",
    "        cur.execute(stmt)\n",
    "    except Exception as er:\n",
    "        print('Lỗi: ', er,'-',i)\n",
    "    else:         \n",
    "        conn.commit() \n",
    "f.close()\n",
    "conn.close()"
   ]
  },
  {
   "cell_type": "code",
   "execution_count": null,
   "metadata": {},
   "outputs": [],
   "source": []
  }
 ],
 "metadata": {
  "kernelspec": {
   "display_name": "Python 3",
   "language": "python",
   "name": "python3"
  },
  "language_info": {
   "codemirror_mode": {
    "name": "ipython",
    "version": 3
   },
   "file_extension": ".py",
   "mimetype": "text/x-python",
   "name": "python",
   "nbconvert_exporter": "python",
   "pygments_lexer": "ipython3",
   "version": "3.6.8"
  }
 },
 "nbformat": 4,
 "nbformat_minor": 4
}
