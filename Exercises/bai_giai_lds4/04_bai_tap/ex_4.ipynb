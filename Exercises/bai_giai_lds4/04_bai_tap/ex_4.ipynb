{
 "cells": [
  {
   "cell_type": "code",
   "execution_count": 28,
   "metadata": {},
   "outputs": [],
   "source": [
    "from mysql.connector import connect"
   ]
  },
  {
   "cell_type": "code",
   "execution_count": 47,
   "metadata": {},
   "outputs": [],
   "source": [
    "conn = connect(host='localhost', port=3308, database='salesdb', user='root', password='')"
   ]
  },
  {
   "cell_type": "code",
   "execution_count": 48,
   "metadata": {},
   "outputs": [],
   "source": [
    "# câu 1\n",
    "sql = \"\"\"\n",
    "SELECT p.*, s.CompanyName\n",
    "FROM products p JOIN suppliers s ON p.SupplierId=s.Id\n",
    "WHERE s.CompanyName=%s\n",
    "\"\"\""
   ]
  },
  {
   "cell_type": "code",
   "execution_count": 49,
   "metadata": {},
   "outputs": [
    {
     "name": "stdout",
     "output_type": "stream",
     "text": [
      "(9, 'Mishi Kobe Niku', 4, Decimal('103.00'), '18 - 500 g pkgs.', 1, 'Tokyo Traders')\n",
      "(10, 'Ikura', 4, Decimal('37.00'), '12 - 200 ml jars', 0, 'Tokyo Traders')\n",
      "(74, 'Longlife Tofu', 4, Decimal('16.00'), '5 kg pkg.', 0, 'Tokyo Traders')\n"
     ]
    }
   ],
   "source": [
    "cur = conn.cursor()\n",
    "name = 'Tokyo Traders'\n",
    "data = (name,)\n",
    "cur.execute(sql, data)\n",
    "row = cur.fetchone()\n",
    "while row:\n",
    "    print(row)\n",
    "    row = cur.fetchone() \n",
    "cur.close()   \n",
    "conn.close()"
   ]
  },
  {
   "cell_type": "code",
   "execution_count": 42,
   "metadata": {},
   "outputs": [],
   "source": [
    "def run_sql(sql, data):\n",
    "    cur = conn.cursor()\n",
    "    cur.execute(sql, data)\n",
    "    row = cur.fetchone()\n",
    "    while row:\n",
    "        print(row)\n",
    "        row = cur.fetchone()    \n",
    "    cur.close()"
   ]
  },
  {
   "cell_type": "code",
   "execution_count": 43,
   "metadata": {},
   "outputs": [],
   "source": [
    "conn = connect(host='localhost', port=3308, database='salesdb', user='root', password='')"
   ]
  },
  {
   "cell_type": "code",
   "execution_count": 44,
   "metadata": {},
   "outputs": [],
   "source": [
    "# câu 2\n",
    "sql = \"\"\"\n",
    "UPDATE products p JOIN suppliers s ON p.SupplierId=s.Id\n",
    "SET UnitPrice=UnitPrice+%s\n",
    "WHERE s.CompanyName=%s\n",
    "\"\"\""
   ]
  },
  {
   "cell_type": "code",
   "execution_count": 45,
   "metadata": {},
   "outputs": [],
   "source": [
    "name = 'Tokyo Traders'\n",
    "price = 3\n",
    "data = (price, name)\n",
    "run_sql(sql, data)"
   ]
  },
  {
   "cell_type": "code",
   "execution_count": 46,
   "metadata": {},
   "outputs": [],
   "source": [
    "conn.close()"
   ]
  },
  {
   "cell_type": "code",
   "execution_count": null,
   "metadata": {},
   "outputs": [],
   "source": []
  }
 ],
 "metadata": {
  "kernelspec": {
   "display_name": "Python 3",
   "language": "python",
   "name": "python3"
  },
  "language_info": {
   "codemirror_mode": {
    "name": "ipython",
    "version": 3
   },
   "file_extension": ".py",
   "mimetype": "text/x-python",
   "name": "python",
   "nbconvert_exporter": "python",
   "pygments_lexer": "ipython3",
   "version": "3.6.8"
  }
 },
 "nbformat": 4,
 "nbformat_minor": 2
}
